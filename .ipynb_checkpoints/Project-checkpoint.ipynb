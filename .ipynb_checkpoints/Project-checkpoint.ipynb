{
 "cells": [
  {
   "cell_type": "markdown",
   "id": "73f5950f-13f6-414b-806a-c1a3a937decb",
   "metadata": {},
   "source": [
    "# **WiDS Datathon 2025 - Unraveling the Mysteries of the Female Brain: Sex Patterns in ADHD**\n",
    "## **Authors:** Sergiu Buhatel and Ramy El Gharbawy"
   ]
  },
  {
   "cell_type": "markdown",
   "id": "1fd2520f-f12b-42ab-847e-5ad1fd4efb22",
   "metadata": {},
   "source": [
    "## **Import the necessary libraries**"
   ]
  },
  {
   "cell_type": "code",
   "execution_count": 731,
   "id": "a7556bfe-72a3-46d3-ac6e-8207b28104ab",
   "metadata": {},
   "outputs": [],
   "source": [
    "import pandas as pd\n",
    "import numpy as np\n",
    "import matplotlib.pyplot as plt\n",
    "from matplotlib.cbook import boxplot_stats\n",
    "import seaborn as sns\n",
    "\n",
    "# To scale the data using z-score\n",
    "from sklearn.preprocessing import StandardScaler\n",
    "from sklearn.linear_model import LogisticRegression\n",
    "from sklearn.model_selection import train_test_split\n",
    "\n",
    "# Algorithms to use\n",
    "from sklearn import tree\n",
    "from sklearn.tree import DecisionTreeClassifier\n",
    "from sklearn.ensemble import RandomForestClassifier\n",
    "import xgboost as xgb\n",
    "\n",
    "# Metrics to evaluate the model\n",
    "from sklearn import metrics\n",
    "from sklearn.metrics import confusion_matrix, classification_report,recall_score,precision_score, accuracy_score\n",
    "\n",
    "# For tuning the model\n",
    "from sklearn.model_selection import GridSearchCV\n",
    "from IPython.display import display, HTML, Markdown\n",
    "\n",
    "# To ignore warnings\n",
    "import warnings\n",
    "warnings.filterwarnings(\"ignore\")"
   ]
  },
  {
   "cell_type": "markdown",
   "id": "9200cf07-6599-47c8-bb37-6ac92d2a0ec3",
   "metadata": {},
   "source": [
    "## **Data Overview**"
   ]
  },
  {
   "cell_type": "markdown",
   "id": "b7a932d4-4b2e-4044-a9d8-bfd37669a42e",
   "metadata": {},
   "source": [
    "- Reading the dataset\n",
    "- Understanding the shape of the dataset\n",
    "- Checking the data types\n",
    "- Checking for missing values"
   ]
  },
  {
   "cell_type": "code",
   "execution_count": 732,
   "id": "76ef79a8-7aaa-4170-b52f-ff7c762b0333",
   "metadata": {},
   "outputs": [],
   "source": [
    "# Loading the datasets\n",
    "df_train_categorical = pd.read_excel('./Data/TRAIN/TRAIN_CATEGORICAL_METADATA.xlsx').set_index(\"participant_id\")\n",
    "df_train_functional = pd.read_csv('./Data/TRAIN/TRAIN_FUNCTIONAL_CONNECTOME_MATRICES.csv').set_index(\"participant_id\")\n",
    "df_train_quantitative = pd.read_excel('./Data/TRAIN/TRAIN_QUANTITATIVE_METADATA.xlsx').set_index(\"participant_id\")\n",
    "df_training_solutions = pd.read_excel('./Data/TRAIN/TRAINING_SOLUTIONS.xlsx').set_index(\"participant_id\")\n",
    "\n",
    "df_test_categorical = pd.read_excel('./Data/TEST/TEST_CATEGORICAL.xlsx').set_index(\"participant_id\")\n",
    "df_test_functional = pd.read_csv('./Data/TEST/TEST_FUNCTIONAL_CONNECTOME_MATRICES.csv').set_index(\"participant_id\")\n",
    "df_test_quantitative = pd.read_excel('./Data/TEST/TEST_QUANTITATIVE_METADATA.xlsx').set_index(\"participant_id\")"
   ]
  },
  {
   "cell_type": "code",
   "execution_count": null,
   "id": "96af941c",
   "metadata": {},
   "outputs": [],
   "source": [
    "# PLotting a histogram of the functional connectivity values\n",
    "plt.figure(figsize=(10, 5))\n",
    "sns.histplot(df_train_functional.values.flatten(), bins=50, kde=True)\n",
    "plt.xlabel(\"Connectivity Strength\")\n",
    "plt.ylabel(\"Frequency\")\n",
    "plt.title(\"Distribution of Functional Connectivity Values\")\n",
    "plt.show()"
   ]
  },
  {
   "cell_type": "code",
   "execution_count": null,
   "id": "2e23dea2",
   "metadata": {},
   "outputs": [],
   "source": [
    "values = df_train_functional.iloc[0, :].values\n",
    "\n",
    "if values.shape[0] == 19900:  # Likely an upper-triangle representation\n",
    "    n = 200  # Assuming 200 regions\n",
    "    matrix = np.zeros((n, n))  # Create empty symmetric matrix\n",
    "\n",
    "    # Get upper triangle indices\n",
    "    triu_indices = np.triu_indices(n, k=1)\n",
    "\n",
    "    # Fill the upper triangle\n",
    "    matrix[triu_indices] = values\n",
    "\n",
    "    # Mirror to make it symmetric\n",
    "    matrix = matrix + matrix.T\n",
    "\n",
    "#  Check symmetry\n",
    "print(\"Is the matrix symmetric?\", np.allclose(matrix, matrix.T, atol=1e-5))\n",
    "\n",
    "# Plot heatmap\n",
    "plt.figure(figsize=(10, 8))\n",
    "sns.heatmap(matrix, cmap=\"coolwarm\", center=0)\n",
    "plt.title(\"Functional Connectivity Matrix\")\n",
    "plt.xlabel(\"Brain Region\")\n",
    "plt.ylabel(\"Brain Region\")\n",
    "plt.show()\n",
    "\n",
    "# Plot histogram of values\n",
    "plt.figure(figsize=(8, 5))\n",
    "sns.histplot(matrix.flatten(), bins=50, kde=True)\n",
    "plt.title(\"Distribution of Functional Connectivity Values\")\n",
    "plt.xlabel(\"Connectivity Strength\")\n",
    "plt.ylabel(\"Frequency\")\n",
    "plt.show()"
   ]
  },
  {
   "cell_type": "code",
   "execution_count": null,
   "id": "3135a626-ca27-43d1-94d6-35121e7bff76",
   "metadata": {},
   "outputs": [],
   "source": [
    "# Copying data to another variable to avoid any changes to original data\n",
    "data_train_categorical=df_train_categorical.copy()\n",
    "data_train_functional=df_train_functional.copy()\n",
    "data_train_quantitative=df_train_quantitative.copy()\n",
    "data_training_solutions=df_training_solutions.copy()\n",
    "\n",
    "data_test_categorical=df_test_categorical.copy()\n",
    "data_test_functional=df_test_functional.copy()\n",
    "data_test_quantitative=df_test_quantitative.copy()"
   ]
  },
  {
   "cell_type": "code",
   "execution_count": null,
   "id": "3537adf8-d565-4f5b-894d-dc6243fcf3a3",
   "metadata": {},
   "outputs": [],
   "source": [
    "def display_head_with_scroll(data):\n",
    "    # Convert the DataFrame to HTML and wrap it with a div that enables horizontal scrolling\n",
    "    html = data.head().to_html()\n",
    "    html_with_scroll = f'<div style=\"overflow-x: auto; white-space: nowrap;\">{html}</div>'\n",
    "    \n",
    "    # Display the HTML with the scroll\n",
    "    display(HTML(html_with_scroll))\n",
    "\n",
    "# Check for null values\n",
    "def columns_containing_null(df):\n",
    "    # Get the count of null values per column\n",
    "    null_count = df.isnull().sum()\n",
    "    \n",
    "    # Filter to show only columns with null values\n",
    "    columns_with_nulls = null_count[null_count > 0]\n",
    "    \n",
    "    print(\"\\nColumns containing null and how many values are null:\\n\" + str(columns_with_nulls) + \"\\n\")\n",
    "\n",
    "def summary_statistics(data):\n",
    "    # Creating numerical columns\n",
    "    num_cols = data.select_dtypes('number').columns\n",
    "    \n",
    "    # Checking the descriptive statistics of the numerical columns\n",
    "    html = data[num_cols].describe().T.to_html()\n",
    "\n",
    "    html_with_scroll = f'<div style=\"overflow-x: auto; white-space: nowrap;\">{html}</div>'\n",
    "    \n",
    "    # Display the HTML with the scroll\n",
    "    display(HTML(html_with_scroll))\n",
    "    \n",
    "def display_data(data, title = None):\n",
    "    if title is not None:\n",
    "        # Display the title as an h1 header\n",
    "        display(HTML(f'<h3>{title}</h1>'))\n",
    "        \n",
    "    display_head_with_scroll(data)\n",
    "\n",
    "    # Get shape of the dataset in terms of number of rows and number of colums\n",
    "    print(\"Shape:\" + str(data.shape) + \"\\n\")\n",
    "    \n",
    "    # Check the data types as part of the info of the data\n",
    "    data_train_categorical.info() \n",
    "\n",
    "    # Check for null values\n",
    "    columns_containing_null(data)\n",
    "\n",
    "    # Summary statistics\n",
    "    summary_statistics(data)\n",
    "\n",
    "# Function to get participant IDs with rows that have null values\n",
    "def get_participant_ids_with_nulls(df):\n",
    "    # Identify rows with any null value\n",
    "    rows_with_nulls = df[df.isnull().any(axis=1)]\n",
    "    \n",
    "    # Get the participant_id (index) of those rows\n",
    "    participant_ids_with_nulls = rows_with_nulls.index.tolist()\n",
    "    \n",
    "    return participant_ids_with_nulls\n",
    "    \n",
    "def display_shape_and_null_data(data, title = None):\n",
    "    if title is not None:\n",
    "        # Display the title as an h1 header\n",
    "        display(HTML(f'<h3>{title}</h1>'))\n",
    "\n",
    "    # Get shape of the dataset in terms of number of rows and number of colums\n",
    "    print(\"Shape:\" + str(data.shape) + \"\\n\")\n",
    "\n",
    "    # Check for null values\n",
    "    participant_ids_with_nulls = get_participant_ids_with_nulls(data)\n",
    "    print(\"Number of columns with null value:\" + str(len(participant_ids_with_nulls)))"
   ]
  },
  {
   "cell_type": "code",
   "execution_count": null,
   "id": "0a452476-e7d0-44e4-b30a-d0e64b3db401",
   "metadata": {},
   "outputs": [],
   "source": [
    "display_data(data_train_categorical, \"TRAIN_CATEGORICAL_METADATA.xlsx\")"
   ]
  },
  {
   "cell_type": "code",
   "execution_count": null,
   "id": "8c0cc0fe-012f-4962-b24f-435c222b25e1",
   "metadata": {},
   "outputs": [],
   "source": [
    "#display_data(data_train_functional, \"TRAIN_FUNCTIONAL_CONNECTOME_MATRICES.csv\")"
   ]
  },
  {
   "cell_type": "code",
   "execution_count": null,
   "id": "ab3f4f17-9e16-48bb-b22b-dc725578f33c",
   "metadata": {},
   "outputs": [],
   "source": [
    "display_data(data_train_quantitative, \"TRAIN_QUANTITATIVE_METADATA.xlsx\")"
   ]
  },
  {
   "cell_type": "code",
   "execution_count": null,
   "id": "33d9d308-c319-4a3d-bd0a-d84f6f7eaf8b",
   "metadata": {},
   "outputs": [],
   "source": [
    "display_data(data_training_solutions, \"TRAINING_SOLUTIONS.xlsx\")\n",
    "print(\"\\nList of possible values for 'ADHD_Outcome': \" + str(data_training_solutions['ADHD_Outcome'].unique()))\n",
    "print(\"\\nList of possible values for 'Sex_F': \" + str(data_training_solutions['Sex_F'].unique()))"
   ]
  },
  {
   "cell_type": "markdown",
   "id": "99d69959-7a69-4876-acdd-b5462b1fa721",
   "metadata": {},
   "source": [
    "### **Observations**\n",
    "- Two values are possble for '**ADHD_Outcome**': **1** and **0**. (**1** = **Yes** and **0** = **No**) \n",
    "- Two values are possible for '**Sex_F**': **1** and **0**. (**1** means **Female**, and **0** means **Male**)"
   ]
  },
  {
   "cell_type": "code",
   "execution_count": null,
   "id": "d0ec3c09-237f-48be-b95e-1875a10ca7da",
   "metadata": {},
   "outputs": [],
   "source": [
    "display_data(data_test_categorical, \"TEST_CATEGORICAL.xlsx\")"
   ]
  },
  {
   "cell_type": "code",
   "execution_count": null,
   "id": "dafe41ce-d928-47b8-b50f-ee42beacc65e",
   "metadata": {},
   "outputs": [],
   "source": [
    "#display_data(data_test_functional, \"TEST_FUNCTIONAL_CONNECTOME_MATRICES.csv\")"
   ]
  },
  {
   "cell_type": "code",
   "execution_count": null,
   "id": "0a3f296c-c9fd-46f6-bb40-670a9ff00804",
   "metadata": {},
   "outputs": [],
   "source": [
    "display_data(data_test_quantitative, \"TEST_QUANTITATIVE_METADATA.xlsx\")"
   ]
  },
  {
   "cell_type": "code",
   "execution_count": null,
   "id": "dd1ef981-4316-46d7-8c36-25200cafa333",
   "metadata": {},
   "outputs": [],
   "source": [
    "# Check the data types as part of the info of the data\n",
    "data_train_categorical.info()"
   ]
  },
  {
   "cell_type": "code",
   "execution_count": null,
   "id": "d55a807b-6920-4a42-9022-5ab46c0ba93c",
   "metadata": {},
   "outputs": [],
   "source": [
    "# Get three lists of participant_id that have at least one column as null\n",
    "participant_ids_with_null_categorical = get_participant_ids_with_nulls(data_train_categorical)\n",
    "participant_ids_with_null_quantitative = get_participant_ids_with_nulls(data_train_quantitative)\n",
    "participant_ids_with_null_solutions = get_participant_ids_with_nulls(data_training_solutions)\n",
    "\n",
    "participant_ids_with_null_test_categorical = get_participant_ids_with_nulls(data_test_categorical)\n",
    "participant_ids_with_null_test_quantitative = get_participant_ids_with_nulls(data_test_quantitative)\n",
    "\n",
    "# Aggregate the lists into one list excluding duplicates\n",
    "aggregate_participant_ids_with_null = list(set(participant_ids_with_null_categorical) | \n",
    "                                           set(participant_ids_with_null_quantitative) | \n",
    "                                           set(participant_ids_with_null_solutions) |\n",
    "                                           set(participant_ids_with_null_test_categorical)|\n",
    "                                           set(participant_ids_with_null_test_quantitative))"
   ]
  },
  {
   "cell_type": "markdown",
   "id": "13113a73-f4ba-483c-b6a6-efe86cfb8c90",
   "metadata": {},
   "source": [
    "## **Data Preprocessing**"
   ]
  },
  {
   "cell_type": "markdown",
   "id": "d5b85578-985c-4649-ae5b-276f3ca579f0",
   "metadata": {},
   "source": [
    "### **Remove null items**\n",
    "Remove items from all dataframes coresponding to any participant_id that has at least one column as null"
   ]
  },
  {
   "cell_type": "code",
   "execution_count": null,
   "id": "b9abb667-9772-4806-9354-f6fc5fa2cc20",
   "metadata": {},
   "outputs": [],
   "source": [
    "# Remove items from dataframe coresponding to participant_id that have at least one column as null\n",
    "def remove_items_based_on_participant_id_list(participant_id_list, df):\n",
    "    # Remove rows where 'participant_id' (index) is in the list\n",
    "    filtered_df = df[~df.index.isin(participant_id_list)]\n",
    "    \n",
    "    # Remove rows where any other column (except 'participant_id') is null\n",
    "    filtered_df = filtered_df.dropna()\n",
    "    \n",
    "    return filtered_df\n",
    "\n",
    "data_train_categorical = remove_items_based_on_participant_id_list(aggregate_participant_ids_with_null, data_train_categorical)\n",
    "display_shape_and_null_data(data_train_categorical, \"TRAIN_CATEGORICAL_METADATA.xlsx\")"
   ]
  },
  {
   "cell_type": "code",
   "execution_count": null,
   "id": "f64a983e-2104-4097-8a29-1750fdf74c0e",
   "metadata": {},
   "outputs": [],
   "source": [
    "data_train_quantitative = remove_items_based_on_participant_id_list(aggregate_participant_ids_with_null, data_train_quantitative)\n",
    "display_shape_and_null_data(data_train_quantitative, \"TRAIN_QUANTITATIVE_METADATA.xlsx\")"
   ]
  },
  {
   "cell_type": "code",
   "execution_count": null,
   "id": "2b32a176-37f5-4f4d-bdea-1c61aa43114d",
   "metadata": {},
   "outputs": [],
   "source": [
    "data_training_solutions = remove_items_based_on_participant_id_list(aggregate_participant_ids_with_null, data_training_solutions)\n",
    "display_shape_and_null_data(data_training_solutions, \"TRAINING_SOLUTIONS.xlsx\")"
   ]
  },
  {
   "cell_type": "code",
   "execution_count": null,
   "id": "a820c67b-11ba-4d1f-be63-d14c485f2242",
   "metadata": {},
   "outputs": [],
   "source": [
    "data_test_categorical = remove_items_based_on_participant_id_list(aggregate_participant_ids_with_null, data_test_categorical)\n",
    "display_shape_and_null_data(data_test_categorical, \"TEST_CATEGORICAL.xlsx\")"
   ]
  },
  {
   "cell_type": "code",
   "execution_count": null,
   "id": "375cd34a-a2e9-472a-94a2-8b6f34beae0f",
   "metadata": {},
   "outputs": [],
   "source": [
    "data_test_quantitative = remove_items_based_on_participant_id_list(aggregate_participant_ids_with_null, data_test_quantitative)\n",
    "display_shape_and_null_data(data_test_quantitative, \"TEST_QUANTITATIVE_METADATA.xlsx\")"
   ]
  },
  {
   "cell_type": "markdown",
   "id": "a5260b9d-8a60-440c-aa28-696dd1b041a4",
   "metadata": {},
   "source": [
    "### TRAIN_FUNCTIONAL_CONNECTOME_MATRICES.csv"
   ]
  },
  {
   "cell_type": "code",
   "execution_count": null,
   "id": "3953e8b1-67b7-407d-b421-0faae2c6b668",
   "metadata": {},
   "outputs": [],
   "source": [
    "data_train_functional = remove_items_based_on_participant_id_list(aggregate_participant_ids_with_null, data_train_functional)"
   ]
  },
  {
   "cell_type": "markdown",
   "id": "af8ef6c3-eb75-4d72-affc-f421f69daa24",
   "metadata": {},
   "source": [
    "### TEST_FUNCTIONAL_CONNECTOME_MATRICES.csv"
   ]
  },
  {
   "cell_type": "code",
   "execution_count": null,
   "id": "355b7b30-9479-4721-b633-440be442a3ac",
   "metadata": {},
   "outputs": [],
   "source": [
    "data_test_functional = remove_items_based_on_participant_id_list(aggregate_participant_ids_with_null, data_test_functional)"
   ]
  },
  {
   "cell_type": "markdown",
   "id": "03ccb4ab-d5ba-4097-90e9-5ed3a2efb148",
   "metadata": {},
   "source": [
    "### **Aggregate training data and unseen data**\n",
    "- Aggregate training data into data, and aggregate test data into unseen data\n",
    "- Define label data"
   ]
  },
  {
   "cell_type": "code",
   "execution_count": null,
   "id": "92e5f410-7f73-42fb-bc41-ef96bb5eeeb2",
   "metadata": {},
   "outputs": [],
   "source": [
    "data_combined = pd.merge(data_train_quantitative, data_train_categorical, left_index=True, right_index=True, how=\"left\")\n",
    "data_combined_without_functional=data_combined.copy()\n",
    "data_combined = pd.merge(data_combined, data_train_functional, left_index=True, right_index=True, how=\"left\")\n",
    "labels=data_training_solutions.copy()\n",
    "\n",
    "unseen_data_combined = pd.merge(data_test_quantitative, data_test_categorical, left_index=True, right_index=True, how=\"left\")\n",
    "unseen_data_combined = pd.merge(unseen_data_combined, data_test_functional, left_index=True, right_index=True, how=\"left\")"
   ]
  },
  {
   "cell_type": "code",
   "execution_count": null,
   "id": "e1e7a710-74dd-45c8-bc39-9e80593927f5",
   "metadata": {},
   "outputs": [],
   "source": [
    "#display_data(data_combined, \"DATA COMBINED\")\n",
    "data_combined.shape"
   ]
  },
  {
   "cell_type": "code",
   "execution_count": null,
   "id": "55e0ca53-7666-4b74-a8db-6a16c5e92b8e",
   "metadata": {},
   "outputs": [],
   "source": [
    "#display_data(unseen_data_combined.shape, \"UNSEEN DATA COMBINED\")\n",
    "unseen_data_combined.shape"
   ]
  },
  {
   "cell_type": "code",
   "execution_count": null,
   "id": "8c20c8d3-c846-499c-924a-371f801fb18e",
   "metadata": {},
   "outputs": [],
   "source": [
    "labels.shape"
   ]
  },
  {
   "cell_type": "markdown",
   "id": "f75df153-59f3-488c-9245-fbaf4ebe82cd",
   "metadata": {},
   "source": [
    "## **Data Exploration**"
   ]
  },
  {
   "cell_type": "markdown",
   "id": "c4ce504c-bdeb-4bae-88c1-59f5a251e9c0",
   "metadata": {},
   "source": [
    "### **Numerical and Categorical Columns**"
   ]
  },
  {
   "cell_type": "code",
   "execution_count": null,
   "id": "8fb693c0-a0d8-483d-9a58-28c97e1083fc",
   "metadata": {},
   "outputs": [],
   "source": [
    "# Identify numerical and categorical columns\n",
    "numerical_cols_without_functional = data_combined_without_functional.select_dtypes(include=['int64', 'float64']).columns\n",
    "categorical_cols_without_functional = data_combined_without_functional.select_dtypes(include=['object']).columns\n",
    "\n",
    "print(\"Numerical Columns: \", numerical_cols_without_functional)\n",
    "print(\"Categorical Columns: \", categorical_cols_without_functional)"
   ]
  },
  {
   "cell_type": "code",
   "execution_count": null,
   "id": "2c78faae-a299-4bdc-b181-b85982920fb6",
   "metadata": {},
   "outputs": [],
   "source": [
    "numerical_cols = data_combined.select_dtypes(include=['int64', 'float64']).columns\n",
    "categorical_cols = data_combined.select_dtypes(include=['object']).columns"
   ]
  },
  {
   "cell_type": "markdown",
   "id": "d766607e-bfea-4544-a5c2-3f03f381d7c8",
   "metadata": {},
   "source": [
    "### **Correlation Analysis**\n",
    "For numerical features, it’s important to explore how they correlate with each other and with the target variables. This will help identify potentially strong predictors and check for multicollinearity."
   ]
  },
  {
   "cell_type": "code",
   "execution_count": null,
   "id": "a6ed2cf4-4153-431b-a94c-0213371111a2",
   "metadata": {},
   "outputs": [],
   "source": [
    "def corelation_analysis(data_combined, labels, numerical_cols, first_half = None):\n",
    "    data_combined_with_labels = pd.merge(data_combined, labels, left_index=True, right_index=True, how=\"left\")\n",
    "    numerical_cols = list(numerical_cols)\n",
    "    \n",
    "    # Limit to the first half numerical columns (if more than half)\n",
    "    if first_half is not None:\n",
    "        threshold = int(len(numerical_cols)/2)\n",
    "        if first_half is True:\n",
    "            numerical_cols = numerical_cols[:threshold]\n",
    "        else:\n",
    "            numerical_cols = numerical_cols[threshold:]\n",
    "    numerical_cols = numerical_cols + [\"ADHD_Outcome\", \"Sex_F\"]\n",
    "    \n",
    "    # Correlation heatmap for numerical features\n",
    "    correlation_matrix = data_combined_with_labels[numerical_cols].corr()\n",
    "    plt.figure(figsize=(12, 8))\n",
    "    sns.heatmap(correlation_matrix, annot=True, cmap='coolwarm', fmt='.2f')\n",
    "    plt.title(\"Correlation Matrix of Numerical Features\")\n",
    "    plt.show()\n",
    "\n",
    "for first_half in [True, False]:\n",
    "    corelation_analysis(data_combined_without_functional, labels, numerical_cols_without_functional, first_half)"
   ]
  },
  {
   "cell_type": "markdown",
   "id": "4390f880-bba2-4b1a-93a7-0b2e5cdf1622",
   "metadata": {},
   "source": [
    "### **Observations**\n",
    "The following predictors are not correlated with either **ADHD_Outcome** or **Sex_F**, and therefore can be dropped:\n",
    "\"**Basic_Demos_Study_Site**\", \"**MRI_Track_Scan_Location**\", \"**PreInt_Demos_Fam_Child_Ethnicity**\", \"**PreInt_Demos_Fam_Child_Race**\", \"**Barratt_Barratt_P1_Occ**\", '**Barratt_Barratt_P2_Occ**\"."
   ]
  },
  {
   "cell_type": "markdown",
   "id": "fbacc8ae-231f-4bea-b70a-4e2537324e82",
   "metadata": {},
   "source": [
    "### **Visualizing the Data**\n",
    "Visualizing the relationship between features and target variables can provide deeper insights. Here are a few ideas for visualizations:\n",
    "\n",
    "Boxplots/Histograms: To explore the distribution of numerical features.\n",
    "Count Plots: For categorical variables, like Sex_F and ADHD_Outcome."
   ]
  },
  {
   "cell_type": "code",
   "execution_count": null,
   "id": "0a8ccddd-d269-415e-b8aa-476ccb400a8e",
   "metadata": {},
   "outputs": [],
   "source": [
    "# Visualize the distribution of numerical features\n",
    "data_combined_without_functional[numerical_cols_without_functional].hist(bins=20, figsize=(12, 8))\n",
    "plt.suptitle(\"Histograms of Numerical Features\")\n",
    "plt.show()\n",
    "\n",
    "# Visualize the distribution of ADHD_Outcome from the labels DataFrame\n",
    "sns.countplot(x='ADHD_Outcome', data=labels)\n",
    "plt.title('Distribution of ADHD Outcome')\n",
    "plt.show()\n",
    "\n",
    "# Visualize the distribution of Sex_F from the labels DataFrame\n",
    "sns.countplot(x='Sex_F', data=labels)\n",
    "plt.title('Distribution of Sex (Female = 1, Male = 0)')\n",
    "plt.show()"
   ]
  },
  {
   "cell_type": "markdown",
   "id": "aa178593-2adc-4259-bd28-bab2682638ea",
   "metadata": {},
   "source": [
    "## **Data Processing**"
   ]
  },
  {
   "cell_type": "markdown",
   "id": "6cbb18de-ec92-45be-80f2-f2d48eb9398a",
   "metadata": {},
   "source": [
    "### **Feature Engineering**\n",
    "Drop columns that are not correlated with the target variables, based on the observations in the correlation matrices."
   ]
  },
  {
   "cell_type": "code",
   "execution_count": null,
   "id": "c970b08c-39a0-4cfc-b5ee-4a9a1b27fd6f",
   "metadata": {},
   "outputs": [],
   "source": [
    "# Drop columns \n",
    "drop_cols = [\n",
    "    \"Basic_Demos_Study_Site\", \"MRI_Track_Scan_Location\", \"PreInt_Demos_Fam_Child_Ethnicity\",\n",
    "    \"PreInt_Demos_Fam_Child_Race\", 'Barratt_Barratt_P1_Occ', 'Barratt_Barratt_P2_Occ'\n",
    "]\n",
    "data_combined.drop(drop_cols, axis=1, inplace=True)\n",
    "unseen_data_combined.drop(drop_cols, axis=1, inplace=True)\n",
    "\n",
    "numerical_cols = list(set(numerical_cols) - set(drop_cols))"
   ]
  },
  {
   "cell_type": "markdown",
   "id": "a6489087-f945-44a5-8b2f-d2df9533f8b6",
   "metadata": {},
   "source": [
    "### **Treating Outliers**\n",
    "Check for outliers and if found, handle them as following:\n",
    "Calculate the lower whisker and upper whisker for each numerical column and replace any smaller value than lower whisker with lower whisker, and any larger value than upper whisker with upper whisker. Only print the number of outliers."
   ]
  },
  {
   "cell_type": "code",
   "execution_count": null,
   "id": "e9fdfda6-6325-4a4a-8858-01a0cde32ac5",
   "metadata": {},
   "outputs": [],
   "source": [
    "def treating_outliers(data, num_columns):\n",
    "    outliers_info = {}  # Dictionary to track outliers removed for each column\n",
    "    total_outliers = 0  # To track total outliers across all columns\n",
    "    \n",
    "    # Iterate over numerical columns\n",
    "    for num_column in num_columns:\n",
    "        # Get whisker for each column\n",
    "        lower_whisker, upper_whisker = get_whiskers_by_column(data, num_column)\n",
    "\n",
    "        # Identify outliers before replacing\n",
    "        lower_outliers = data[data[num_column] < lower_whisker]\n",
    "        upper_outliers = data[data[num_column] > upper_whisker]\n",
    "        \n",
    "        # Count outliers\n",
    "        num_lower_outliers = len(lower_outliers)\n",
    "        num_upper_outliers = len(upper_outliers)\n",
    "\n",
    "        # Sum total outliers for all columns\n",
    "        total_outliers += num_lower_outliers + num_upper_outliers\n",
    "\n",
    "        # Print outliers info if any outliers exist\n",
    "        if num_lower_outliers > 0 or num_upper_outliers > 0:\n",
    "            print(f\"Outliers for column '{num_column}':\")\n",
    "            print(f\"  - Number of lower outliers: {num_lower_outliers}\")\n",
    "            print(f\"  - Number of upper outliers: {num_upper_outliers}\")\n",
    "\n",
    "        # Replace values smaller than lower_whisker with lower_whisker, \n",
    "        # and values larger than upper_whisker with upper_whisker using clip method\n",
    "        data[num_column] = data[num_column].clip(lower=lower_whisker, upper=upper_whisker)\n",
    "        \n",
    "        # Store outliers info in dictionary for potential future reference\n",
    "        outliers_info[num_column] = {\n",
    "            'lower_outliers': lower_outliers,\n",
    "            'upper_outliers': upper_outliers,\n",
    "            'num_lower_outliers': num_lower_outliers,\n",
    "            'num_upper_outliers': num_upper_outliers\n",
    "        }\n",
    "\n",
    "    print(\"\\nTotal number of outliers across all columns:\", total_outliers)\n",
    "    return data, outliers_info\n",
    "\n",
    "# num_columns = [col for col in data_combined.select_dtypes(include=['float64', 'int64']).columns]\n",
    "# data_combined, outliers_info = treating_outliers(data_combined, num_columns)"
   ]
  },
  {
   "cell_type": "markdown",
   "id": "d057238a-17d8-4033-9d91-9da6f4434739",
   "metadata": {},
   "source": [
    "### **Observations**\n",
    "Since 467 outliers were found out of 845 items in the total data, we decided to leave the outliers in, as they represent more than half of the data."
   ]
  },
  {
   "cell_type": "markdown",
   "id": "2bf674bc-8aff-4dd7-9458-86b88a7a1a70",
   "metadata": {},
   "source": [
    "### **Split data into training and testing**\n",
    "- Split the data into 80% training and 20% testing, and stratify based on male or female ('Sex_F') from the labels variable. \n",
    "- Set a random_state, so that it will generate the same random output each time. This controls the seed for the random number generator."
   ]
  },
  {
   "cell_type": "code",
   "execution_count": null,
   "id": "d0eb1637-f29d-425c-9a6d-5dd029c966de",
   "metadata": {},
   "outputs": [],
   "source": [
    "# Renamed labels and data_combined into Y and X\n",
    "Y = labels\n",
    "X = data_combined\n",
    "\n",
    "# Define 2 targets\n",
    "labels_adhd = labels[\"ADHD_Outcome\"]\n",
    "labels_sex = labels[\"Sex_F\"]\n",
    "\n",
    "# Splitting the data and stratify based on ADHD_Outcome\n",
    "x_train_adhd, x_test_adhd, y_train_adhd, y_test_adhd = train_test_split(X, labels_adhd, test_size = 0.2, \n",
    "                                                                        random_state = 1, stratify = labels_adhd)\n",
    "# Splitting the data and stratify based on Sex_F\n",
    "x_train_sex, x_test_sex, y_train_sex, y_test_sex = train_test_split(X, labels_sex, test_size = 0.2, \n",
    "                                                                    random_state = 1, stratify = labels_sex)"
   ]
  },
  {
   "cell_type": "code",
   "execution_count": null,
   "id": "03bec57b-c387-4e79-9686-d4dfe60ed59d",
   "metadata": {},
   "outputs": [],
   "source": [
    "def display_dataframe_shapes():\n",
    "    shapes_list = [\n",
    "        (x_train_adhd, 'x_train_adhd'),  \n",
    "        (x_test_adhd, 'x_test_adhd'),  \n",
    "        (y_train_adhd, 'y_train_adhd'),  \n",
    "        (y_test_adhd, 'y_test_adhd'),  \n",
    "        (x_train_sex, 'x_train_sex'),  \n",
    "        (x_test_sex, 'x_test_sex'),  \n",
    "        (y_train_sex, 'y_train_sex'),  \n",
    "        (y_test_sex, 'y_test_sex'),  \n",
    "    ]\n",
    "    for item, name in shapes_list:\n",
    "        print(f\"{name}.shape: {item.shape}\")\n",
    "        \n",
    "display_dataframe_shapes()"
   ]
  },
  {
   "cell_type": "markdown",
   "id": "5ec299c2-ce31-4d34-b95f-4ff8266ab3cb",
   "metadata": {},
   "source": [
    "## **Model Building**"
   ]
  },
  {
   "cell_type": "markdown",
   "id": "eb848e65-390d-4ab2-8d85-af352dac0e2f",
   "metadata": {},
   "source": [
    "### **Logistic Regression**"
   ]
  },
  {
   "cell_type": "code",
   "execution_count": null,
   "id": "716ed54e-6767-4d98-bf63-3468f725a238",
   "metadata": {},
   "outputs": [],
   "source": [
    "def generic_regression(x_train, y_train, x_test, y_test, target_names, model):\n",
    "    model.fit(x_train, y_train)  # Train the model on the training data\n",
    "    \n",
    "    # Make predictions\n",
    "    y_pred = model.predict(x_test)  # Use the trained model to make predictions on the test set\n",
    "    \n",
    "    # Evaluate the model's performance\n",
    "    \n",
    "    # Accuracy\n",
    "    accuracy = accuracy_score(y_test, y_pred)\n",
    "    print(\"Accuracy:\", accuracy)\n",
    "    \n",
    "    # Classification Report (precision, recall, f1-score)\n",
    "    print(\"Classification Report:\\n\", classification_report(y_test, y_pred, target_names=target_names))\n",
    "    \n",
    "    # Confusion Matrix\n",
    "    cm = confusion_matrix(y_test, y_pred)\n",
    "    print(\"Confusion Matrix:\\n\", cm)\n",
    "    \n",
    "    # Plot confusion matrix\n",
    "    plt.figure(figsize=(6, 6))\n",
    "    sns.heatmap(cm, annot=True, fmt='d', cmap='Blues', cbar=False, annot_kws={'size': 16}, \n",
    "                xticklabels=target_names, yticklabels=target_names)\n",
    "    plt.title(\"Confusion Matrix\")\n",
    "    plt.xlabel('Predicted')\n",
    "    plt.ylabel('Actual')\n",
    "    plt.show()\n",
    "\n",
    "\n",
    "def logistic_regression(x_train, y_train, x_test, y_test, target_names):\n",
    "    # Train the logistic regression model\n",
    "    model = LogisticRegression(max_iter=1000)  # Logistic Regression model\n",
    "\n",
    "    # Fit, predict, display metrics\n",
    "    generic_regression(x_train, y_train, x_test, y_test, target_names, model)\n",
    "    \n",
    "display(Markdown('### ADHD_Outcome'))\n",
    "logistic_regression(x_train_adhd, y_train_adhd, x_test_adhd, y_test_adhd, target_names=['No', 'Yes'])\n",
    "\n",
    "display(Markdown('### Sex_F'))\n",
    "logistic_regression(x_train_sex, y_train_sex, x_test_sex, y_test_sex, target_names=['Male', 'Female'])"
   ]
  },
  {
   "cell_type": "markdown",
   "id": "6a069ad7-7e51-4390-a41b-620f901ec711",
   "metadata": {},
   "source": [
    "### **Random Forest**"
   ]
  },
  {
   "cell_type": "code",
   "execution_count": null,
   "id": "c2692851-fa2b-47f4-8560-32a23f466479",
   "metadata": {},
   "outputs": [],
   "source": [
    "def random_forest(x_train, y_train, x_test, y_test, target_names):\n",
    "    # Train the Random Forest model\n",
    "    model = RandomForestClassifier(n_estimators=100, random_state=42)  # Random Forest model with 100 trees\n",
    "\n",
    "    # Fit, predict, display metrics\n",
    "    generic_regression(x_train, y_train, x_test, y_test, target_names, model)\n",
    "\n",
    "# Displaying the sections with Random Forest\n",
    "display(Markdown('### ADHD_Outcome'))\n",
    "random_forest(x_train_adhd, y_train_adhd, x_test_adhd, y_test_adhd, target_names=['No', 'Yes'])\n",
    "\n",
    "display(Markdown('### Sex_F'))\n",
    "random_forest(x_train_sex, y_train_sex, x_test_sex, y_test_sex, target_names=['Male', 'Female'])\n"
   ]
  },
  {
   "cell_type": "code",
   "execution_count": null,
   "id": "d174a333-5215-416b-8991-418020da50b2",
   "metadata": {},
   "outputs": [],
   "source": [
    "### **XGBoost**"
   ]
  },
  {
   "cell_type": "code",
   "execution_count": null,
   "id": "14650151-6388-4dda-af8a-f008ec87ad4d",
   "metadata": {},
   "outputs": [],
   "source": [
    "def xgboost_model(x_train, y_train, x_test, y_test, target_names):\n",
    "    # Train the XGBoost model\n",
    "    model = xgb.XGBClassifier(n_estimators=100, random_state=42)  # XGBoost model with 100 trees\n",
    "\n",
    "    # Fit, predict, display metrics\n",
    "    generic_regression(x_train, y_train, x_test, y_test, target_names, model)\n",
    "\n",
    "# Displaying the sections with XGBoost\n",
    "display(Markdown('### ADHD_Outcome'))\n",
    "xgboost_model(x_train_adhd, y_train_adhd, x_test_adhd, y_test_adhd, target_names=['No', 'Yes'])\n",
    "\n",
    "display(Markdown('### Sex_F'))\n",
    "xgboost_model(x_train_sex, y_train_sex, x_test_sex, y_test_sex, target_names=['Male', 'Female'])\n"
   ]
  }
 ],
 "metadata": {
  "kernelspec": {
   "display_name": "Python 3 (ipykernel)",
   "language": "python",
   "name": "python3"
  },
  "language_info": {
   "codemirror_mode": {
    "name": "ipython",
    "version": 3
   },
   "file_extension": ".py",
   "mimetype": "text/x-python",
   "name": "python",
   "nbconvert_exporter": "python",
   "pygments_lexer": "ipython3",
   "version": "3.11.3"
  }
 },
 "nbformat": 4,
 "nbformat_minor": 5
}
